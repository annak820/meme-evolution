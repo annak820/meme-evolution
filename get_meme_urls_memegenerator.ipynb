{
 "cells": [
  {
   "cell_type": "markdown",
   "metadata": {},
   "source": [
    "# Get instance URLs from generator at memegenerator.net"
   ]
  },
  {
   "cell_type": "markdown",
   "metadata": {},
   "source": [
    "**resources**\n",
    "- http://version1.api.memegenerator.net/#Instances_Select_ByPopular"
   ]
  },
  {
   "cell_type": "code",
   "execution_count": 1,
   "metadata": {},
   "outputs": [],
   "source": [
    "import requests"
   ]
  },
  {
   "cell_type": "code",
   "execution_count": 88,
   "metadata": {},
   "outputs": [],
   "source": [
    "url_name = 'willywonka'\n",
    "params = (\n",
    "        ('languageCode', 'en'),\n",
    "        ('pageIndex' , '0'),\n",
    "        ('urlName', url_name),\n",
    "        ('days', '100' ),\n",
    "        ('apiKey' , '15c46ec1-1010-49f8-a4b4-19bc16d8ba17')\n",
    "    )"
   ]
  },
  {
   "cell_type": "code",
   "execution_count": 89,
   "metadata": {},
   "outputs": [],
   "source": [
    "response = requests.get('http://version1.api.memegenerator.net//Instances_Select_ByPopular', params=params)"
   ]
  },
  {
   "cell_type": "code",
   "execution_count": 90,
   "metadata": {},
   "outputs": [],
   "source": [
    "json_res = response.json()"
   ]
  },
  {
   "cell_type": "markdown",
   "metadata": {},
   "source": [
    "Our json_res variable is the response in json format. It consists of a keys ['elapsedMS', 'success', 'warning', 'result']. The key 'result' holds our resultset"
   ]
  },
  {
   "cell_type": "code",
   "execution_count": 91,
   "metadata": {},
   "outputs": [
    {
     "name": "stdout",
     "output_type": "stream",
     "text": [
      "dict_keys(['elapsedMS', 'success', 'warning', 'result'])\n"
     ]
    }
   ],
   "source": [
    "keys = json_res.keys() \n",
    "print(keys)\n",
    "if 'result' not in keys:\n",
    "    print(\"Warning: this request gives no results\")\n",
    "    print(json_res['warning'])"
   ]
  },
  {
   "cell_type": "code",
   "execution_count": 92,
   "metadata": {},
   "outputs": [],
   "source": [
    "json_res['warning']"
   ]
  },
  {
   "cell_type": "markdown",
   "metadata": {},
   "source": [
    "e.g. lets see the number of results:"
   ]
  },
  {
   "cell_type": "code",
   "execution_count": 93,
   "metadata": {
    "scrolled": true
   },
   "outputs": [
    {
     "name": "stdout",
     "output_type": "stream",
     "text": [
      "Total results of this request:\n",
      "15\n"
     ]
    }
   ],
   "source": [
    "print(\"Total results of this request:\")\n",
    "print(len(json_res['result']))"
   ]
  },
  {
   "cell_type": "code",
   "execution_count": 94,
   "metadata": {},
   "outputs": [
    {
     "data": {
      "text/plain": [
       "dict_keys(['displayName', 'urlName', 'imageUrl', 'entityVotesSummary', 'instanceImageUrl', 'totalVotesScore', 'instanceID', 'text0', 'mgUserID', 'generatorID', 'commentsCount', 'text1', 'imageID', 'username', 'instanceUrl'])"
      ]
     },
     "execution_count": 94,
     "metadata": {},
     "output_type": "execute_result"
    }
   ],
   "source": [
    "json_res['result'][0].keys()"
   ]
  },
  {
   "cell_type": "code",
   "execution_count": null,
   "metadata": {},
   "outputs": [],
   "source": [
    "# printing results, PROOF OF CONCEPT ONLY\n",
    "for result in json_res['result']:\n",
    "    print(result['instanceImageUrl'])\n",
    "    print(result['text1'])"
   ]
  },
  {
   "cell_type": "code",
   "execution_count": 97,
   "metadata": {},
   "outputs": [
    {
     "data": {
      "text/html": [
       "<div>\n",
       "<style scoped>\n",
       "    .dataframe tbody tr th:only-of-type {\n",
       "        vertical-align: middle;\n",
       "    }\n",
       "\n",
       "    .dataframe tbody tr th {\n",
       "        vertical-align: top;\n",
       "    }\n",
       "\n",
       "    .dataframe thead th {\n",
       "        text-align: right;\n",
       "    }\n",
       "</style>\n",
       "<table border=\"1\" class=\"dataframe\">\n",
       "  <thead>\n",
       "    <tr style=\"text-align: right;\">\n",
       "      <th></th>\n",
       "      <th>commentsCount</th>\n",
       "      <th>displayName</th>\n",
       "      <th>entityVotesSummary</th>\n",
       "      <th>generatorID</th>\n",
       "      <th>imageID</th>\n",
       "      <th>imageUrl</th>\n",
       "      <th>instanceID</th>\n",
       "      <th>instanceImageUrl</th>\n",
       "      <th>instanceUrl</th>\n",
       "      <th>mgUserID</th>\n",
       "      <th>text0</th>\n",
       "      <th>text1</th>\n",
       "      <th>totalVotesScore</th>\n",
       "      <th>urlName</th>\n",
       "      <th>username</th>\n",
       "    </tr>\n",
       "  </thead>\n",
       "  <tbody>\n",
       "    <tr>\n",
       "      <th>0</th>\n",
       "      <td>30</td>\n",
       "      <td>Willy Wonka</td>\n",
       "      <td>{'entityID': 17847878, 'totalVotesSum': 1057, ...</td>\n",
       "      <td>542616</td>\n",
       "      <td>2729805</td>\n",
       "      <td>https://memegenerator.net/img/images/2729805.jpg</td>\n",
       "      <td>17847878</td>\n",
       "      <td>https://memegenerator.net/img/instances/178478...</td>\n",
       "      <td>https://memegenerator.net/instance/17847878</td>\n",
       "      <td>2129252160</td>\n",
       "      <td>Oh age is just a number?</td>\n",
       "      <td>well jail must just be a room</td>\n",
       "      <td>1057</td>\n",
       "      <td>Willywonka</td>\n",
       "      <td>None</td>\n",
       "    </tr>\n",
       "    <tr>\n",
       "      <th>1</th>\n",
       "      <td>17</td>\n",
       "      <td>Willy Wonka</td>\n",
       "      <td>{'entityID': 17094336, 'totalVotesSum': 1016, ...</td>\n",
       "      <td>542616</td>\n",
       "      <td>2729805</td>\n",
       "      <td>https://memegenerator.net/img/images/2729805.jpg</td>\n",
       "      <td>17094336</td>\n",
       "      <td>https://memegenerator.net/img/instances/170943...</td>\n",
       "      <td>https://memegenerator.net/instance/17094336</td>\n",
       "      <td>-981602223</td>\n",
       "      <td>Oh you hate facebook?</td>\n",
       "      <td>Please, post another status all about it</td>\n",
       "      <td>1015</td>\n",
       "      <td>Willywonka</td>\n",
       "      <td>None</td>\n",
       "    </tr>\n",
       "    <tr>\n",
       "      <th>2</th>\n",
       "      <td>11</td>\n",
       "      <td>Willy Wonka</td>\n",
       "      <td>{'entityID': 18139887, 'totalVotesSum': 863, '...</td>\n",
       "      <td>542616</td>\n",
       "      <td>2729805</td>\n",
       "      <td>https://memegenerator.net/img/images/2729805.jpg</td>\n",
       "      <td>18139887</td>\n",
       "      <td>https://memegenerator.net/img/instances/181398...</td>\n",
       "      <td>https://memegenerator.net/instance/18139887</td>\n",
       "      <td>398493259</td>\n",
       "      <td>Oh, you post Bible verses on Facebook?.</td>\n",
       "      <td>YOU'RE DEFINITELY GETTING INTO HEAVEN</td>\n",
       "      <td>863</td>\n",
       "      <td>Willywonka</td>\n",
       "      <td>None</td>\n",
       "    </tr>\n",
       "    <tr>\n",
       "      <th>3</th>\n",
       "      <td>12</td>\n",
       "      <td>Willy Wonka</td>\n",
       "      <td>{'entityID': 18830851, 'totalVotesSum': 806, '...</td>\n",
       "      <td>542616</td>\n",
       "      <td>2729805</td>\n",
       "      <td>https://memegenerator.net/img/images/2729805.jpg</td>\n",
       "      <td>18830851</td>\n",
       "      <td>https://memegenerator.net/img/instances/188308...</td>\n",
       "      <td>https://memegenerator.net/instance/18830851</td>\n",
       "      <td>-796843451</td>\n",
       "      <td>YOU RESPONDED WITH \"YOUR MOM\"</td>\n",
       "      <td>YOU MUST WIN ARGUEMENTS ALL THE TIME.</td>\n",
       "      <td>806</td>\n",
       "      <td>Willywonka</td>\n",
       "      <td>None</td>\n",
       "    </tr>\n",
       "    <tr>\n",
       "      <th>4</th>\n",
       "      <td>7</td>\n",
       "      <td>Willy Wonka</td>\n",
       "      <td>{'entityID': 19437066, 'totalVotesSum': 772, '...</td>\n",
       "      <td>542616</td>\n",
       "      <td>2729805</td>\n",
       "      <td>https://memegenerator.net/img/images/2729805.jpg</td>\n",
       "      <td>19437066</td>\n",
       "      <td>https://memegenerator.net/img/instances/194370...</td>\n",
       "      <td>https://memegenerator.net/instance/19437066</td>\n",
       "      <td>13522382</td>\n",
       "      <td>oh you got back together with your ex for the ...</td>\n",
       "      <td>it will probably work out this time</td>\n",
       "      <td>772</td>\n",
       "      <td>Willywonka</td>\n",
       "      <td>mikel</td>\n",
       "    </tr>\n",
       "  </tbody>\n",
       "</table>\n",
       "</div>"
      ],
      "text/plain": [
       "   commentsCount  displayName  \\\n",
       "0             30  Willy Wonka   \n",
       "1             17  Willy Wonka   \n",
       "2             11  Willy Wonka   \n",
       "3             12  Willy Wonka   \n",
       "4              7  Willy Wonka   \n",
       "\n",
       "                                  entityVotesSummary  generatorID  imageID  \\\n",
       "0  {'entityID': 17847878, 'totalVotesSum': 1057, ...       542616  2729805   \n",
       "1  {'entityID': 17094336, 'totalVotesSum': 1016, ...       542616  2729805   \n",
       "2  {'entityID': 18139887, 'totalVotesSum': 863, '...       542616  2729805   \n",
       "3  {'entityID': 18830851, 'totalVotesSum': 806, '...       542616  2729805   \n",
       "4  {'entityID': 19437066, 'totalVotesSum': 772, '...       542616  2729805   \n",
       "\n",
       "                                           imageUrl  instanceID  \\\n",
       "0  https://memegenerator.net/img/images/2729805.jpg    17847878   \n",
       "1  https://memegenerator.net/img/images/2729805.jpg    17094336   \n",
       "2  https://memegenerator.net/img/images/2729805.jpg    18139887   \n",
       "3  https://memegenerator.net/img/images/2729805.jpg    18830851   \n",
       "4  https://memegenerator.net/img/images/2729805.jpg    19437066   \n",
       "\n",
       "                                    instanceImageUrl  \\\n",
       "0  https://memegenerator.net/img/instances/178478...   \n",
       "1  https://memegenerator.net/img/instances/170943...   \n",
       "2  https://memegenerator.net/img/instances/181398...   \n",
       "3  https://memegenerator.net/img/instances/188308...   \n",
       "4  https://memegenerator.net/img/instances/194370...   \n",
       "\n",
       "                                   instanceUrl    mgUserID  \\\n",
       "0  https://memegenerator.net/instance/17847878  2129252160   \n",
       "1  https://memegenerator.net/instance/17094336  -981602223   \n",
       "2  https://memegenerator.net/instance/18139887   398493259   \n",
       "3  https://memegenerator.net/instance/18830851  -796843451   \n",
       "4  https://memegenerator.net/instance/19437066    13522382   \n",
       "\n",
       "                                               text0  \\\n",
       "0                           Oh age is just a number?   \n",
       "1                              Oh you hate facebook?   \n",
       "2            Oh, you post Bible verses on Facebook?.   \n",
       "3                      YOU RESPONDED WITH \"YOUR MOM\"   \n",
       "4  oh you got back together with your ex for the ...   \n",
       "\n",
       "                                      text1  totalVotesScore     urlName  \\\n",
       "0             well jail must just be a room             1057  Willywonka   \n",
       "1  Please, post another status all about it             1015  Willywonka   \n",
       "2     YOU'RE DEFINITELY GETTING INTO HEAVEN              863  Willywonka   \n",
       "3     YOU MUST WIN ARGUEMENTS ALL THE TIME.              806  Willywonka   \n",
       "4       it will probably work out this time              772  Willywonka   \n",
       "\n",
       "  username  \n",
       "0     None  \n",
       "1     None  \n",
       "2     None  \n",
       "3     None  \n",
       "4    mikel  "
      ]
     },
     "execution_count": 97,
     "metadata": {},
     "output_type": "execute_result"
    }
   ],
   "source": [
    "# add all results into a pandas dataframe\n",
    "import pandas as pd\n",
    "\n",
    "df = pd.DataFrame(json_res['result'])\n",
    "df.head()"
   ]
  },
  {
   "cell_type": "code",
   "execution_count": 99,
   "metadata": {},
   "outputs": [],
   "source": [
    "# writedata frame to csv\n",
    "df.to_csv('results.csv')"
   ]
  },
  {
   "cell_type": "code",
   "execution_count": null,
   "metadata": {},
   "outputs": [],
   "source": []
  }
 ],
 "metadata": {
  "kernelspec": {
   "display_name": "Python 3",
   "language": "python3",
   "name": "python3"
  },
  "language_info": {
   "codemirror_mode": {
    "name": "ipython",
    "version": 3
   },
   "file_extension": ".py",
   "mimetype": "text/x-python",
   "name": "python",
   "nbconvert_exporter": "python",
   "pygments_lexer": "ipython3",
   "version": "3.5.2"
  }
 },
 "nbformat": 4,
 "nbformat_minor": 2
}
