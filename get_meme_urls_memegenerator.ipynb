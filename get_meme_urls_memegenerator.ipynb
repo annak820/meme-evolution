{
 "cells": [
  {
   "cell_type": "markdown",
   "metadata": {},
   "source": [
    "# Get instance URLs from generator at memegenerator.net"
   ]
  },
  {
   "cell_type": "markdown",
   "metadata": {},
   "source": [
    "**resources**\n",
    "- http://version1.api.memegenerator.net/#Instances_Select_ByPopular"
   ]
  },
  {
   "cell_type": "code",
   "execution_count": 1,
   "metadata": {},
   "outputs": [],
   "source": [
    "import requests"
   ]
  },
  {
   "cell_type": "code",
   "execution_count": 81,
   "metadata": {},
   "outputs": [],
   "source": [
    "url_name = 'willywonka'\n",
    "params = (\n",
    "        ('languageCode', 'en'),\n",
    "        ('pageIndex' , '10000000'),\n",
    "        ('urlName', url_name),\n",
    "        ('days', '100' ),\n",
    "        ('apiKey' , '15c46ec1-1010-49f8-a4b4-19bc16d8ba17')\n",
    "    )"
   ]
  },
  {
   "cell_type": "code",
   "execution_count": 82,
   "metadata": {},
   "outputs": [],
   "source": [
    "response = requests.get('http://version1.api.memegenerator.net//Instances_Select_ByPopular', params=params)"
   ]
  },
  {
   "cell_type": "code",
   "execution_count": 83,
   "metadata": {},
   "outputs": [],
   "source": [
    "json_res = response.json()"
   ]
  },
  {
   "cell_type": "markdown",
   "metadata": {},
   "source": [
    "Our json_res variable is the response in json format. It consists of a keys ['elapsedMS', 'success', 'warning', 'result']. The key 'result' holds our resultset"
   ]
  },
  {
   "cell_type": "code",
   "execution_count": 84,
   "metadata": {},
   "outputs": [
    {
     "name": "stdout",
     "output_type": "stream",
     "text": [
      "dict_keys(['elapsedMS', 'success', 'warning', 'result'])\n"
     ]
    }
   ],
   "source": [
    "keys = json_res.keys() \n",
    "print(keys)\n",
    "if 'result' not in keys:\n",
    "    print(\"Warning: this request gives no results\")\n",
    "    print(json_res['warning'])"
   ]
  },
  {
   "cell_type": "code",
   "execution_count": 85,
   "metadata": {},
   "outputs": [],
   "source": [
    "json_res['warning']"
   ]
  },
  {
   "cell_type": "markdown",
   "metadata": {},
   "source": [
    "e.g. lets see the number of results:"
   ]
  },
  {
   "cell_type": "code",
   "execution_count": 86,
   "metadata": {
    "scrolled": true
   },
   "outputs": [
    {
     "name": "stdout",
     "output_type": "stream",
     "text": [
      "Total results of this request:\n",
      "0\n"
     ]
    }
   ],
   "source": [
    "print(\"Total results of this request:\")\n",
    "print(len(json_res['result']))"
   ]
  },
  {
   "cell_type": "code",
   "execution_count": 87,
   "metadata": {},
   "outputs": [
    {
     "ename": "IndexError",
     "evalue": "list index out of range",
     "output_type": "error",
     "traceback": [
      "\u001b[0;31m---------------------------------------------------------------------------\u001b[0m",
      "\u001b[0;31mIndexError\u001b[0m                                Traceback (most recent call last)",
      "\u001b[0;32m<ipython-input-87-73cb3f262ab4>\u001b[0m in \u001b[0;36m<module>\u001b[0;34m\u001b[0m\n\u001b[0;32m----> 1\u001b[0;31m \u001b[0mjson_res\u001b[0m\u001b[0;34m[\u001b[0m\u001b[0;34m'result'\u001b[0m\u001b[0;34m]\u001b[0m\u001b[0;34m[\u001b[0m\u001b[0;36m0\u001b[0m\u001b[0;34m]\u001b[0m\u001b[0;34m.\u001b[0m\u001b[0mkeys\u001b[0m\u001b[0;34m(\u001b[0m\u001b[0;34m)\u001b[0m\u001b[0;34m\u001b[0m\u001b[0m\n\u001b[0m",
      "\u001b[0;31mIndexError\u001b[0m: list index out of range"
     ]
    }
   ],
   "source": [
    "json_res['result'][0].keys()"
   ]
  },
  {
   "cell_type": "code",
   "execution_count": 72,
   "metadata": {},
   "outputs": [
    {
     "name": "stdout",
     "output_type": "stream",
     "text": [
      "well jail must just be a room\n",
      "Please, post another status all about it\n",
      " YOU'RE DEFINITELY GETTING INTO HEAVEN\n",
      "YOU MUST WIN ARGUEMENTS ALL THE TIME.\n",
      "it will probably work out this time\n",
      "you must care loads about it\n",
      "Please tell me how much of a 90's kid you are.\n",
      "Tell me more about how you've always wanted to be a taxi driver\n",
      "Being 11 must be so hard.\n",
      "Tell me about how unique you are.\n",
      "I'm sure you'll be just as successful\n",
      "I'm sure you could show the soldiers in afghanistan a thing or two\n",
      "please tell me how poetic dubstep is\n",
      "the fact is POKEMON GO is PLAYING YOU !\n",
      "tell me more about japan that doesn't include anime\n"
     ]
    }
   ],
   "source": [
    "for result in json_res['result']:\n",
    "#     print(result['instanceImageUrl'])\n",
    "    print(result['text1'])"
   ]
  },
  {
   "cell_type": "code",
   "execution_count": null,
   "metadata": {},
   "outputs": [],
   "source": []
  },
  {
   "cell_type": "code",
   "execution_count": null,
   "metadata": {},
   "outputs": [],
   "source": []
  }
 ],
 "metadata": {
  "kernelspec": {
   "display_name": "Python 3",
   "language": "python3",
   "name": "python3"
  },
  "language_info": {
   "codemirror_mode": {
    "name": "ipython",
    "version": 3
   },
   "file_extension": ".py",
   "mimetype": "text/x-python",
   "name": "python",
   "nbconvert_exporter": "python",
   "pygments_lexer": "ipython3",
   "version": "3.5.2"
  }
 },
 "nbformat": 4,
 "nbformat_minor": 2
}
