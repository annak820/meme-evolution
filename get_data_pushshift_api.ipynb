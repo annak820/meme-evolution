{
 "cells": [
  {
   "cell_type": "markdown",
   "metadata": {},
   "source": [
    "# Get data from pushshift.io API"
   ]
  },
  {
   "cell_type": "markdown",
   "metadata": {},
   "source": [
    "\n",
    "**resources**\n",
    "- docs api https://github.com/pushshift/api\n",
    "- general comments https://www.reddit.com/r/pushshift/comments/9l8n1i/new_to_pushshift_read_this_faq_etc/\n",
    "\n",
    "**using bigquery instead of this api**\n",
    "- https://www.reddit.com/r/bigquery/comments/8lfu6u/pushshift_will_now_be_integrating_bigquery_into/\n",
    "- https://github.com/pushshift/google_bigquery\n",
    "- https://bigquery.cloud.google.com/welcome  "
   ]
  },
  {
   "cell_type": "code",
   "execution_count": 1,
   "metadata": {},
   "outputs": [],
   "source": [
    "import datetime\n",
    "import time\n",
    "import requests"
   ]
  },
  {
   "cell_type": "code",
   "execution_count": 2,
   "metadata": {},
   "outputs": [
    {
     "name": "stdout",
     "output_type": "stream",
     "text": [
      "2009-04-16 01:00:00\n"
     ]
    },
    {
     "data": {
      "text/plain": [
       "1239836400.0"
      ]
     },
     "execution_count": 2,
     "metadata": {},
     "output_type": "execute_result"
    }
   ],
   "source": [
    "def from_unix_to_datetime(your_timestamp):\n",
    "    date = datetime.datetime.fromtimestamp(your_timestamp / 1e3)\n",
    "    return date\n",
    "\n",
    "def from_datetime_to_unix(datetime_object):\n",
    "    unixtime = time.mktime(datetime_object.timetuple())\n",
    "    return unixtime\n",
    "\n",
    "start = datetime.datetime(2009, 4, 16, 1, 0)\n",
    "print(start)\n",
    "from_datetime_to_unix(start)"
   ]
  },
  {
   "cell_type": "markdown",
   "metadata": {},
   "source": [
    "## Searching in submissions"
   ]
  },
  {
   "cell_type": "code",
   "execution_count": 4,
   "metadata": {},
   "outputs": [],
   "source": [
    "search_string = 'i.imgur.com'\n",
    "# search_string = 'i.redd.it'\n",
    "# search_string = 'pewdiepie'\n",
    "start_time = datetime.datetime(2019, 1, 1, 0, 0)\n",
    "end_time = datetime.datetime(2019, 2, 1, 0, 0)\n",
    "\n",
    "params = (\n",
    "    ('q', search_string),\n",
    "    ('after', start_time),\n",
    "    ('before', end_time),\n",
    "    ('subreddit', ''),\n",
    "    ('author', ''),\n",
    "    ('aggs', ''),\n",
    "    ('metadata', 'true'),\n",
    "    ('frequency', 'hour'),\n",
    "    ('advanced', 'false'),\n",
    "    ('sort', 'desc'),\n",
    "    ('domain', ''),\n",
    "    ('sort_type', 'num_comments'),\n",
    "    ('size', '100'),\n",
    ")"
   ]
  },
  {
   "cell_type": "code",
   "execution_count": 5,
   "metadata": {},
   "outputs": [],
   "source": [
    "response = requests.get('https://api.pushshift.io/reddit/search/submission/', params=params)"
   ]
  },
  {
   "cell_type": "code",
   "execution_count": 6,
   "metadata": {},
   "outputs": [],
   "source": [
    "json_res = response.json()"
   ]
  },
  {
   "cell_type": "markdown",
   "metadata": {},
   "source": [
    "Our json_res variable is the response in json format. It consists of a key 'metadata', that gives information about the reqeust and stats of the data, and a key 'data' that holds the actual data we are looking"
   ]
  },
  {
   "cell_type": "code",
   "execution_count": 7,
   "metadata": {},
   "outputs": [
    {
     "data": {
      "text/plain": [
       "dict_keys(['metadata', 'data'])"
      ]
     },
     "execution_count": 7,
     "metadata": {},
     "output_type": "execute_result"
    }
   ],
   "source": [
    "json_res.keys()"
   ]
  },
  {
   "cell_type": "code",
   "execution_count": 8,
   "metadata": {},
   "outputs": [],
   "source": [
    "# json_res['metadata']"
   ]
  },
  {
   "cell_type": "markdown",
   "metadata": {},
   "source": [
    "e.g. lets see the number of results:"
   ]
  },
  {
   "cell_type": "code",
   "execution_count": 10,
   "metadata": {
    "scrolled": true
   },
   "outputs": [
    {
     "name": "stdout",
     "output_type": "stream",
     "text": [
      "Total results of this request:\n"
     ]
    },
    {
     "data": {
      "text/plain": [
       "32304"
      ]
     },
     "execution_count": 10,
     "metadata": {},
     "output_type": "execute_result"
    }
   ],
   "source": [
    "print(\"Total results of this request:\")\n",
    "json_res['metadata']['total_results']"
   ]
  },
  {
   "cell_type": "markdown",
   "metadata": {},
   "source": [
    "The data key holds a list with all the results. Each result is again a json/dictionary"
   ]
  },
  {
   "cell_type": "code",
   "execution_count": 200,
   "metadata": {},
   "outputs": [
    {
     "name": "stdout",
     "output_type": "stream",
     "text": [
      "<class 'list'>\n",
      "<class 'dict'>\n"
     ]
    }
   ],
   "source": [
    "print(type(json_res['data']))\n",
    "print(type(json_res['data'][0]))"
   ]
  },
  {
   "cell_type": "code",
   "execution_count": 201,
   "metadata": {},
   "outputs": [
    {
     "name": "stdout",
     "output_type": "stream",
     "text": [
      "###Welcome to the Live•PD live thread for Friday[.](https://i.imgur.com/KOp9KYs.jpg)\r\n",
      "\r\n",
      "___\r\n",
      "\r\n",
      "\r\n",
      "###**Hosts:** [Dan Abrams](https://twitter.com/danabrams) and [Tom Morris Jr](https://twitter.com/TomMorrisJr1)\r\n",
      "\r\n",
      "###**Guest:** [Sean \"Sticks\" Larkin](https://twitter.com/Sean_C_Larkin)\r\n",
      "\r\n",
      "**[Tonights lineup]()** TO BE ANNOUNCED\r\n",
      "\r\n",
      "___\r\n",
      "\r\n",
      "###Fun Stuff:\r\n",
      "\r\n",
      "**[Live•PD Bingo!](http://www.thatsabingo.com) Play bingo as you watch!**\r\n",
      "\r\n",
      "We have a [Discord server](https://discord.gg/AyACheg) to chat about the show and bingo!\r\n",
      "\r\n",
      "We have user flairs available for verified LEO, CO, Dispatch, EMS, Fire, Live•PD Officer and Live•PD crew. To request a flair, head on over to our [request page](https://livepdnation.net/verify/) and fill out the form.\r\n",
      "\r\n",
      "Comment of the Night flair awards!  Three users will be selected in each live thread for a flair!  [Click here](/r/livepd/wiki/cotn) for more information.\r\n",
      "\r\n",
      "___\r\n",
      "\r\n",
      "###Helpful links:\r\n",
      "\r\n",
      "[Live•PD News and Information](http://livepdnation.net/)\r\n",
      "\r\n",
      "[Follow us on Twitter](https://twitter.com/intent/follow?original_referer=http%3A%2F%2Freddit.com%2Fr%2Flivepd%2F&amp;ref_src=twsrc%5Etfw&amp;region=follow_link&amp;screen_name=LivePDReddit&amp;tw_p=followbutton)\r\n",
      "\r\n",
      "[Live•PD featured missing persons](http://livepdnation.net/index.php/category/missing-persons/)\r\n",
      "\r\n",
      "___\r\n",
      "\r\n",
      "Suicide is no joke. Your life is worth living. If you or someone you know is having suicidal thoughts please get help.\r\n",
      "\r\n",
      "[The National Suicide Prevention Lifeline](https://suicidepreventionlifeline.org/) is available. Call **1-800-273-8255**\r\n",
      "\r\n",
      "Anonymous texting is available too!  Send a text message to 741741 (US) or  686868 (Canada)\r\n",
      "___\r\n",
      "\r\n",
      "**Reminder:** Do not post personal information of people featured on the show.  This includes Google street views, LinkedIn profiles, Facebook, arrest reports, etc...\r\n",
      "___\r\n",
      "\r\n",
      "\n"
     ]
    }
   ],
   "source": [
    "text = json_res['data'][2]['selftext']\n",
    "print(text)"
   ]
  },
  {
   "cell_type": "code",
   "execution_count": null,
   "metadata": {},
   "outputs": [],
   "source": []
  }
 ],
 "metadata": {
  "kernelspec": {
   "display_name": "Python 3",
   "language": "python3",
   "name": "python3"
  },
  "language_info": {
   "codemirror_mode": {
    "name": "ipython",
    "version": 3
   },
   "file_extension": ".py",
   "mimetype": "text/x-python",
   "name": "python",
   "nbconvert_exporter": "python",
   "pygments_lexer": "ipython3",
   "version": "3.5.2"
  }
 },
 "nbformat": 4,
 "nbformat_minor": 2
}
